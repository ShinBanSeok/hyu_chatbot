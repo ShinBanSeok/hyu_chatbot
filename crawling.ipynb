{
 "cells": [
  {
   "cell_type": "code",
   "execution_count": 13,
   "id": "41e0cee4",
   "metadata": {},
   "outputs": [
    {
     "name": "stdout",
     "output_type": "stream",
     "text": [
      "✅ 이미 존재하는 파일: 21c개발경영정책과정.txt, 건너뜀\n",
      "✅ 이미 존재하는 파일: Angelus.txt, 건너뜀\n"
     ]
    }
   ],
   "source": [
    "import requests\n",
    "from bs4 import BeautifulSoup\n",
    "import time\n",
    "import os\n",
    "import re\n",
    "\n",
    "def safe_filename(name):\n",
    "    # 파일에 사용할 수 없는 문자 제거 또는 치환\n",
    "    return re.sub(r'[\\\\/:\"*?<>|\\'\"]+', '_', name).strip()\n",
    "\n",
    "base_url = \"https://hyu.wiki\"\n",
    "from_value = \"\"\n",
    "\n",
    "while True:\n",
    "    full_url = f\"{base_url}/index.php?title=특수:모든문서&from={from_value}&hideredirects=1\"\n",
    "    response = requests.get(full_url)\n",
    "    soup = BeautifulSoup(response.text, 'html.parser')\n",
    "    \n",
    "    titles = soup.select('.mw-allpages-chunk > li > a')\n",
    "    for t in titles:\n",
    "        sub_url = base_url + t['href']\n",
    "        sub_res = requests.get(sub_url)\n",
    "        sub_soup = BeautifulSoup(sub_res.text, 'html.parser')\n",
    "        \n",
    "        head = sub_soup.select_one('.firstHeading').text\n",
    "        temp = safe_filename(head)\n",
    "        \n",
    "        save_dir = \"/Users/shinbanseok/Desktop/HYU_ChatBot/data\"\n",
    "        os.makedirs(save_dir, exist_ok=True)\n",
    "        file_name = f\"{temp}.txt\"\n",
    "        file_path = os.path.join(save_dir, file_name)\n",
    "\n",
    "        # 파일이 존재하지 않을 경우에만 실행\n",
    "        if not os.path.exists(file_path):\n",
    "            container = sub_soup.select('.mw-parser-output')\n",
    "            with open(file_path, \"w\", encoding=\"utf-8\") as f:\n",
    "                f.write(f\"{head}\\n\")  # 문서 제목 한 번만 기록\n",
    "                for tag in container:\n",
    "                    text = tag.text\n",
    "                    if text:\n",
    "                        f.write(f\"{text}\")\n",
    "            # time.sleep(0.1)\n",
    "        else:\n",
    "            print(f\"✅ 이미 존재하는 파일: {file_name}, 건너뜀\")\n",
    "\n",
    "    next_link = soup.select_one('.mw-allpages-nav > a:nth-of-type(2)')\n",
    "    if next_link:\n",
    "        href = next_link['href']\n",
    "        from_value = href.split(\"from=\")[1].split(\"&\")[0]\n",
    "    else:\n",
    "        break"
   ]
  }
 ],
 "metadata": {
  "kernelspec": {
   "display_name": "myenv",
   "language": "python",
   "name": "python3"
  },
  "language_info": {
   "codemirror_mode": {
    "name": "ipython",
    "version": 3
   },
   "file_extension": ".py",
   "mimetype": "text/x-python",
   "name": "python",
   "nbconvert_exporter": "python",
   "pygments_lexer": "ipython3",
   "version": "3.11.12"
  }
 },
 "nbformat": 4,
 "nbformat_minor": 5
}
